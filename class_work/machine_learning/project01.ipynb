{
 "cells": [
  {
   "cell_type": "markdown",
   "metadata": {},
   "source": [
    "Experiment Objective"
   ]
  },
  {
   "cell_type": "markdown",
   "metadata": {},
   "source": [
    "Terms of Service\n",
    "\n",
    "The TOS didn't limit the use of data. It mostly stated that the licensing was public domain, so the data could be used and linked to freely. However, the TOS reqested that the data be cited. Here is the APA citation they provided:\n",
    "\n",
    "Emergency Medical Services Department. (2014). EMS - Incidents by Month [Data set]. City of Austin, Texas Open Data Portal. https://doi.org/10.26000/001.000001\n",
    "\n",
    "The TOS also stated that they reserved the right to modify or discontinue the data provided at any time. It also stated that linked websites were provided as a convience, and they couldn't guarentee the provided websites' content. \n",
    "\n",
    "I think the most important request in the TOS was that personal information shouldn't be extracted from the dataset. Measures had been taken to remove personal data, but it could be possible to identify people by some of the features. Basically, don't use the data to dox people. \n"
   ]
  },
  {
   "cell_type": "markdown",
   "metadata": {},
   "source": [
    "Ethical Considerations\n",
    "\n",
    "As this dataset is about animals, it doesn't put into question the demographic considerations envolved when the dataset envolves people. "
   ]
  },
  {
   "cell_type": "markdown",
   "metadata": {},
   "source": [
    "Model\n",
    "\n",
    "This model is attempting to predict the subtype among the subset of animals that were euthenised. "
   ]
  },
  {
   "cell_type": "markdown",
   "metadata": {},
   "source": [
    "This dataset was selected becausse it is about the largest no-kill shelter is the US. It has a robust number of records. "
   ]
  },
  {
   "cell_type": "markdown",
   "metadata": {},
   "source": [
    "Data Collection"
   ]
  },
  {
   "cell_type": "code",
   "execution_count": 2,
   "metadata": {},
   "outputs": [
    {
     "name": "stdout",
     "output_type": "stream",
     "text": [
      "Collecting sodapy\n",
      "  Downloading sodapy-2.1.0-py2.py3-none-any.whl (14 kB)\n",
      "Requirement already satisfied: requests>=2.20.0 in /Users/dorothydavis/anaconda3/lib/python3.8/site-packages (from sodapy) (2.24.0)\n",
      "Requirement already satisfied: certifi>=2017.4.17 in /Users/dorothydavis/anaconda3/lib/python3.8/site-packages (from requests>=2.20.0->sodapy) (2020.6.20)\n",
      "Requirement already satisfied: urllib3!=1.25.0,!=1.25.1,<1.26,>=1.21.1 in /Users/dorothydavis/anaconda3/lib/python3.8/site-packages (from requests>=2.20.0->sodapy) (1.25.9)\n",
      "Requirement already satisfied: idna<3,>=2.5 in /Users/dorothydavis/anaconda3/lib/python3.8/site-packages (from requests>=2.20.0->sodapy) (2.10)\n",
      "Requirement already satisfied: chardet<4,>=3.0.2 in /Users/dorothydavis/anaconda3/lib/python3.8/site-packages (from requests>=2.20.0->sodapy) (3.0.4)\n",
      "Installing collected packages: sodapy\n",
      "Successfully installed sodapy-2.1.0\n"
     ]
    }
   ],
   "source": [
    "!pip3 install sodapy"
   ]
  },
  {
   "cell_type": "code",
   "execution_count": 13,
   "metadata": {},
   "outputs": [
    {
     "name": "stderr",
     "output_type": "stream",
     "text": [
      "WARNING:root:Requests made without an app_token will be subject to strict throttling limits.\n"
     ]
    }
   ],
   "source": [
    "import pandas as pd\n",
    "import numpy as np\n",
    "from sodapy import Socrata\n",
    "\n",
    "client = Socrata(\"data.austintexas.gov\", None)\n",
    "\n",
    "# First 2000 results, returned as JSON from API / converted to Python list of\n",
    "# dictionaries by sodapy.\n",
    "results = client.get(\"9t4d-g238\", limit=2000)\n",
    "\n",
    "# Convert to pandas DataFrame\n",
    "df = pd.DataFrame.from_records(results)"
   ]
  },
  {
   "cell_type": "code",
   "execution_count": 4,
   "metadata": {},
   "outputs": [
    {
     "data": {
      "text/html": [
       "<div>\n",
       "<style scoped>\n",
       "    .dataframe tbody tr th:only-of-type {\n",
       "        vertical-align: middle;\n",
       "    }\n",
       "\n",
       "    .dataframe tbody tr th {\n",
       "        vertical-align: top;\n",
       "    }\n",
       "\n",
       "    .dataframe thead th {\n",
       "        text-align: right;\n",
       "    }\n",
       "</style>\n",
       "<table border=\"1\" class=\"dataframe\">\n",
       "  <thead>\n",
       "    <tr style=\"text-align: right;\">\n",
       "      <th></th>\n",
       "      <th>animal_id</th>\n",
       "      <th>datetime</th>\n",
       "      <th>monthyear</th>\n",
       "      <th>date_of_birth</th>\n",
       "      <th>outcome_type</th>\n",
       "      <th>animal_type</th>\n",
       "      <th>sex_upon_outcome</th>\n",
       "      <th>age_upon_outcome</th>\n",
       "      <th>breed</th>\n",
       "      <th>color</th>\n",
       "      <th>name</th>\n",
       "      <th>outcome_subtype</th>\n",
       "    </tr>\n",
       "  </thead>\n",
       "  <tbody>\n",
       "    <tr>\n",
       "      <th>317</th>\n",
       "      <td>A821155</td>\n",
       "      <td>2020-08-27T09:36:00.000</td>\n",
       "      <td>2020-08-27T09:36:00.000</td>\n",
       "      <td>2020-06-26T00:00:00.000</td>\n",
       "      <td>Adoption</td>\n",
       "      <td>Cat</td>\n",
       "      <td>Neutered Male</td>\n",
       "      <td>2 months</td>\n",
       "      <td>Domestic Shorthair</td>\n",
       "      <td>Brown Tabby</td>\n",
       "      <td>*Toka</td>\n",
       "      <td>Foster</td>\n",
       "    </tr>\n",
       "    <tr>\n",
       "      <th>72</th>\n",
       "      <td>A821745</td>\n",
       "      <td>2020-09-05T14:59:00.000</td>\n",
       "      <td>2020-09-05T14:59:00.000</td>\n",
       "      <td>2019-08-18T00:00:00.000</td>\n",
       "      <td>Transfer</td>\n",
       "      <td>Dog</td>\n",
       "      <td>Neutered Male</td>\n",
       "      <td>1 year</td>\n",
       "      <td>Shiba Inu Mix</td>\n",
       "      <td>Tan/White</td>\n",
       "      <td>*Teddy</td>\n",
       "      <td>Partner</td>\n",
       "    </tr>\n",
       "  </tbody>\n",
       "</table>\n",
       "</div>"
      ],
      "text/plain": [
       "    animal_id                 datetime                monthyear  \\\n",
       "317   A821155  2020-08-27T09:36:00.000  2020-08-27T09:36:00.000   \n",
       "72    A821745  2020-09-05T14:59:00.000  2020-09-05T14:59:00.000   \n",
       "\n",
       "               date_of_birth outcome_type animal_type sex_upon_outcome  \\\n",
       "317  2020-06-26T00:00:00.000     Adoption         Cat    Neutered Male   \n",
       "72   2019-08-18T00:00:00.000     Transfer         Dog    Neutered Male   \n",
       "\n",
       "    age_upon_outcome               breed        color    name outcome_subtype  \n",
       "317         2 months  Domestic Shorthair  Brown Tabby   *Toka          Foster  \n",
       "72            1 year       Shiba Inu Mix    Tan/White  *Teddy         Partner  "
      ]
     },
     "execution_count": 4,
     "metadata": {},
     "output_type": "execute_result"
    }
   ],
   "source": [
    "df.sample(2)\n"
   ]
  },
  {
   "cell_type": "markdown",
   "metadata": {},
   "source": [
    "Data Preprocessing"
   ]
  },
  {
   "cell_type": "code",
   "execution_count": 15,
   "metadata": {},
   "outputs": [
    {
     "data": {
      "text/plain": [
       "animal_id             0\n",
       "datetime              0\n",
       "monthyear             0\n",
       "date_of_birth         0\n",
       "outcome_type          0\n",
       "animal_type           0\n",
       "sex_upon_outcome      0\n",
       "age_upon_outcome      0\n",
       "breed                 0\n",
       "color                 0\n",
       "name                146\n",
       "outcome_subtype       2\n",
       "dtype: int64"
      ]
     },
     "execution_count": 15,
     "metadata": {},
     "output_type": "execute_result"
    }
   ],
   "source": [
    "#Start by checking for NaN\n",
    "df = df[df.outcome_type == 'Euthanasia']\n",
    "pd.isnull(df).sum()"
   ]
  },
  {
   "cell_type": "code",
   "execution_count": 16,
   "metadata": {},
   "outputs": [
    {
     "data": {
      "text/html": [
       "<div>\n",
       "<style scoped>\n",
       "    .dataframe tbody tr th:only-of-type {\n",
       "        vertical-align: middle;\n",
       "    }\n",
       "\n",
       "    .dataframe tbody tr th {\n",
       "        vertical-align: top;\n",
       "    }\n",
       "\n",
       "    .dataframe thead th {\n",
       "        text-align: right;\n",
       "    }\n",
       "</style>\n",
       "<table border=\"1\" class=\"dataframe\">\n",
       "  <thead>\n",
       "    <tr style=\"text-align: right;\">\n",
       "      <th></th>\n",
       "      <th>animal_id</th>\n",
       "      <th>datetime</th>\n",
       "      <th>monthyear</th>\n",
       "      <th>date_of_birth</th>\n",
       "      <th>outcome_type</th>\n",
       "      <th>animal_type</th>\n",
       "      <th>sex_upon_outcome</th>\n",
       "      <th>age_upon_outcome</th>\n",
       "      <th>breed</th>\n",
       "      <th>color</th>\n",
       "      <th>name</th>\n",
       "      <th>outcome_subtype</th>\n",
       "    </tr>\n",
       "  </thead>\n",
       "  <tbody>\n",
       "    <tr>\n",
       "      <th>611</th>\n",
       "      <td>A821648</td>\n",
       "      <td>2020-08-16T11:38:00.000</td>\n",
       "      <td>2020-08-16T11:38:00.000</td>\n",
       "      <td>2019-08-16T00:00:00.000</td>\n",
       "      <td>Euthanasia</td>\n",
       "      <td>Other</td>\n",
       "      <td>Unknown</td>\n",
       "      <td>1 year</td>\n",
       "      <td>Raccoon</td>\n",
       "      <td>Gray</td>\n",
       "      <td>NaN</td>\n",
       "      <td>NaN</td>\n",
       "    </tr>\n",
       "    <tr>\n",
       "      <th>1518</th>\n",
       "      <td>A820140</td>\n",
       "      <td>2020-07-13T16:40:00.000</td>\n",
       "      <td>2020-07-13T16:40:00.000</td>\n",
       "      <td>2020-04-13T00:00:00.000</td>\n",
       "      <td>Euthanasia</td>\n",
       "      <td>Other</td>\n",
       "      <td>Unknown</td>\n",
       "      <td>2 months</td>\n",
       "      <td>Raccoon</td>\n",
       "      <td>Brown/Black</td>\n",
       "      <td>NaN</td>\n",
       "      <td>NaN</td>\n",
       "    </tr>\n",
       "  </tbody>\n",
       "</table>\n",
       "</div>"
      ],
      "text/plain": [
       "     animal_id                 datetime                monthyear  \\\n",
       "611    A821648  2020-08-16T11:38:00.000  2020-08-16T11:38:00.000   \n",
       "1518   A820140  2020-07-13T16:40:00.000  2020-07-13T16:40:00.000   \n",
       "\n",
       "                date_of_birth outcome_type animal_type sex_upon_outcome  \\\n",
       "611   2019-08-16T00:00:00.000   Euthanasia       Other          Unknown   \n",
       "1518  2020-04-13T00:00:00.000   Euthanasia       Other          Unknown   \n",
       "\n",
       "     age_upon_outcome    breed        color name outcome_subtype  \n",
       "611            1 year  Raccoon         Gray  NaN             NaN  \n",
       "1518         2 months  Raccoon  Brown/Black  NaN             NaN  "
      ]
     },
     "execution_count": 16,
     "metadata": {},
     "output_type": "execute_result"
    }
   ],
   "source": [
    "df[pd.isnull(df.outcome_subtype)]"
   ]
  },
  {
   "cell_type": "code",
   "execution_count": 17,
   "metadata": {},
   "outputs": [],
   "source": [
    "#since there is only 2 NaNs I decided to drop them\n",
    "df = df.dropna(subset=['outcome_subtype'])"
   ]
  },
  {
   "cell_type": "code",
   "execution_count": 18,
   "metadata": {},
   "outputs": [],
   "source": [
    "#One hot encoding for categorical variables\n",
    "sex_coded = pd.get_dummies(df['sex_upon_outcome'], drop_first = True)\n",
    "\n",
    "df = df.drop('sex_upon_outcome',axis = 1)\n",
    "\n",
    "df = df.join(sex_coded)"
   ]
  },
  {
   "cell_type": "code",
   "execution_count": 19,
   "metadata": {},
   "outputs": [],
   "source": [
    "animal_coded = pd.get_dummies(df['animal_type'], drop_first = True)\n",
    "\n",
    "df = df.drop('animal_type',axis = 1)\n",
    "\n",
    "df = df.join(animal_coded)"
   ]
  },
  {
   "cell_type": "code",
   "execution_count": 21,
   "metadata": {},
   "outputs": [
    {
     "ename": "KeyError",
     "evalue": "'breed'",
     "output_type": "error",
     "traceback": [
      "\u001b[0;31m---------------------------------------------------------------------------\u001b[0m",
      "\u001b[0;31mKeyError\u001b[0m                                  Traceback (most recent call last)",
      "\u001b[0;32m~/anaconda3/lib/python3.8/site-packages/pandas/core/indexes/base.py\u001b[0m in \u001b[0;36mget_loc\u001b[0;34m(self, key, method, tolerance)\u001b[0m\n\u001b[1;32m   2645\u001b[0m             \u001b[0;32mtry\u001b[0m\u001b[0;34m:\u001b[0m\u001b[0;34m\u001b[0m\u001b[0;34m\u001b[0m\u001b[0m\n\u001b[0;32m-> 2646\u001b[0;31m                 \u001b[0;32mreturn\u001b[0m \u001b[0mself\u001b[0m\u001b[0;34m.\u001b[0m\u001b[0m_engine\u001b[0m\u001b[0;34m.\u001b[0m\u001b[0mget_loc\u001b[0m\u001b[0;34m(\u001b[0m\u001b[0mkey\u001b[0m\u001b[0;34m)\u001b[0m\u001b[0;34m\u001b[0m\u001b[0;34m\u001b[0m\u001b[0m\n\u001b[0m\u001b[1;32m   2647\u001b[0m             \u001b[0;32mexcept\u001b[0m \u001b[0mKeyError\u001b[0m\u001b[0;34m:\u001b[0m\u001b[0;34m\u001b[0m\u001b[0;34m\u001b[0m\u001b[0m\n",
      "\u001b[0;32mpandas/_libs/index.pyx\u001b[0m in \u001b[0;36mpandas._libs.index.IndexEngine.get_loc\u001b[0;34m()\u001b[0m\n",
      "\u001b[0;32mpandas/_libs/index.pyx\u001b[0m in \u001b[0;36mpandas._libs.index.IndexEngine.get_loc\u001b[0;34m()\u001b[0m\n",
      "\u001b[0;32mpandas/_libs/hashtable_class_helper.pxi\u001b[0m in \u001b[0;36mpandas._libs.hashtable.PyObjectHashTable.get_item\u001b[0;34m()\u001b[0m\n",
      "\u001b[0;32mpandas/_libs/hashtable_class_helper.pxi\u001b[0m in \u001b[0;36mpandas._libs.hashtable.PyObjectHashTable.get_item\u001b[0;34m()\u001b[0m\n",
      "\u001b[0;31mKeyError\u001b[0m: 'breed'",
      "\nDuring handling of the above exception, another exception occurred:\n",
      "\u001b[0;31mKeyError\u001b[0m                                  Traceback (most recent call last)",
      "\u001b[0;32m<ipython-input-21-f34522aca31b>\u001b[0m in \u001b[0;36m<module>\u001b[0;34m\u001b[0m\n\u001b[0;32m----> 1\u001b[0;31m \u001b[0mbreed_coded\u001b[0m \u001b[0;34m=\u001b[0m \u001b[0mpd\u001b[0m\u001b[0;34m.\u001b[0m\u001b[0mget_dummies\u001b[0m\u001b[0;34m(\u001b[0m\u001b[0mdf\u001b[0m\u001b[0;34m[\u001b[0m\u001b[0;34m'breed'\u001b[0m\u001b[0;34m]\u001b[0m\u001b[0;34m,\u001b[0m \u001b[0mdrop_first\u001b[0m \u001b[0;34m=\u001b[0m \u001b[0;32mTrue\u001b[0m\u001b[0;34m)\u001b[0m\u001b[0;34m\u001b[0m\u001b[0;34m\u001b[0m\u001b[0m\n\u001b[0m\u001b[1;32m      2\u001b[0m \u001b[0;34m\u001b[0m\u001b[0m\n\u001b[1;32m      3\u001b[0m \u001b[0mdf\u001b[0m \u001b[0;34m=\u001b[0m \u001b[0mdf\u001b[0m\u001b[0;34m.\u001b[0m\u001b[0mdrop\u001b[0m\u001b[0;34m(\u001b[0m\u001b[0;34m'breed'\u001b[0m\u001b[0;34m,\u001b[0m\u001b[0maxis\u001b[0m \u001b[0;34m=\u001b[0m \u001b[0;36m1\u001b[0m\u001b[0;34m)\u001b[0m\u001b[0;34m\u001b[0m\u001b[0;34m\u001b[0m\u001b[0m\n",
      "\u001b[0;32m~/anaconda3/lib/python3.8/site-packages/pandas/core/frame.py\u001b[0m in \u001b[0;36m__getitem__\u001b[0;34m(self, key)\u001b[0m\n\u001b[1;32m   2798\u001b[0m             \u001b[0;32mif\u001b[0m \u001b[0mself\u001b[0m\u001b[0;34m.\u001b[0m\u001b[0mcolumns\u001b[0m\u001b[0;34m.\u001b[0m\u001b[0mnlevels\u001b[0m \u001b[0;34m>\u001b[0m \u001b[0;36m1\u001b[0m\u001b[0;34m:\u001b[0m\u001b[0;34m\u001b[0m\u001b[0;34m\u001b[0m\u001b[0m\n\u001b[1;32m   2799\u001b[0m                 \u001b[0;32mreturn\u001b[0m \u001b[0mself\u001b[0m\u001b[0;34m.\u001b[0m\u001b[0m_getitem_multilevel\u001b[0m\u001b[0;34m(\u001b[0m\u001b[0mkey\u001b[0m\u001b[0;34m)\u001b[0m\u001b[0;34m\u001b[0m\u001b[0;34m\u001b[0m\u001b[0m\n\u001b[0;32m-> 2800\u001b[0;31m             \u001b[0mindexer\u001b[0m \u001b[0;34m=\u001b[0m \u001b[0mself\u001b[0m\u001b[0;34m.\u001b[0m\u001b[0mcolumns\u001b[0m\u001b[0;34m.\u001b[0m\u001b[0mget_loc\u001b[0m\u001b[0;34m(\u001b[0m\u001b[0mkey\u001b[0m\u001b[0;34m)\u001b[0m\u001b[0;34m\u001b[0m\u001b[0;34m\u001b[0m\u001b[0m\n\u001b[0m\u001b[1;32m   2801\u001b[0m             \u001b[0;32mif\u001b[0m \u001b[0mis_integer\u001b[0m\u001b[0;34m(\u001b[0m\u001b[0mindexer\u001b[0m\u001b[0;34m)\u001b[0m\u001b[0;34m:\u001b[0m\u001b[0;34m\u001b[0m\u001b[0;34m\u001b[0m\u001b[0m\n\u001b[1;32m   2802\u001b[0m                 \u001b[0mindexer\u001b[0m \u001b[0;34m=\u001b[0m \u001b[0;34m[\u001b[0m\u001b[0mindexer\u001b[0m\u001b[0;34m]\u001b[0m\u001b[0;34m\u001b[0m\u001b[0;34m\u001b[0m\u001b[0m\n",
      "\u001b[0;32m~/anaconda3/lib/python3.8/site-packages/pandas/core/indexes/base.py\u001b[0m in \u001b[0;36mget_loc\u001b[0;34m(self, key, method, tolerance)\u001b[0m\n\u001b[1;32m   2646\u001b[0m                 \u001b[0;32mreturn\u001b[0m \u001b[0mself\u001b[0m\u001b[0;34m.\u001b[0m\u001b[0m_engine\u001b[0m\u001b[0;34m.\u001b[0m\u001b[0mget_loc\u001b[0m\u001b[0;34m(\u001b[0m\u001b[0mkey\u001b[0m\u001b[0;34m)\u001b[0m\u001b[0;34m\u001b[0m\u001b[0;34m\u001b[0m\u001b[0m\n\u001b[1;32m   2647\u001b[0m             \u001b[0;32mexcept\u001b[0m \u001b[0mKeyError\u001b[0m\u001b[0;34m:\u001b[0m\u001b[0;34m\u001b[0m\u001b[0;34m\u001b[0m\u001b[0m\n\u001b[0;32m-> 2648\u001b[0;31m                 \u001b[0;32mreturn\u001b[0m \u001b[0mself\u001b[0m\u001b[0;34m.\u001b[0m\u001b[0m_engine\u001b[0m\u001b[0;34m.\u001b[0m\u001b[0mget_loc\u001b[0m\u001b[0;34m(\u001b[0m\u001b[0mself\u001b[0m\u001b[0;34m.\u001b[0m\u001b[0m_maybe_cast_indexer\u001b[0m\u001b[0;34m(\u001b[0m\u001b[0mkey\u001b[0m\u001b[0;34m)\u001b[0m\u001b[0;34m)\u001b[0m\u001b[0;34m\u001b[0m\u001b[0;34m\u001b[0m\u001b[0m\n\u001b[0m\u001b[1;32m   2649\u001b[0m         \u001b[0mindexer\u001b[0m \u001b[0;34m=\u001b[0m \u001b[0mself\u001b[0m\u001b[0;34m.\u001b[0m\u001b[0mget_indexer\u001b[0m\u001b[0;34m(\u001b[0m\u001b[0;34m[\u001b[0m\u001b[0mkey\u001b[0m\u001b[0;34m]\u001b[0m\u001b[0;34m,\u001b[0m \u001b[0mmethod\u001b[0m\u001b[0;34m=\u001b[0m\u001b[0mmethod\u001b[0m\u001b[0;34m,\u001b[0m \u001b[0mtolerance\u001b[0m\u001b[0;34m=\u001b[0m\u001b[0mtolerance\u001b[0m\u001b[0;34m)\u001b[0m\u001b[0;34m\u001b[0m\u001b[0;34m\u001b[0m\u001b[0m\n\u001b[1;32m   2650\u001b[0m         \u001b[0;32mif\u001b[0m \u001b[0mindexer\u001b[0m\u001b[0;34m.\u001b[0m\u001b[0mndim\u001b[0m \u001b[0;34m>\u001b[0m \u001b[0;36m1\u001b[0m \u001b[0;32mor\u001b[0m \u001b[0mindexer\u001b[0m\u001b[0;34m.\u001b[0m\u001b[0msize\u001b[0m \u001b[0;34m>\u001b[0m \u001b[0;36m1\u001b[0m\u001b[0;34m:\u001b[0m\u001b[0;34m\u001b[0m\u001b[0;34m\u001b[0m\u001b[0m\n",
      "\u001b[0;32mpandas/_libs/index.pyx\u001b[0m in \u001b[0;36mpandas._libs.index.IndexEngine.get_loc\u001b[0;34m()\u001b[0m\n",
      "\u001b[0;32mpandas/_libs/index.pyx\u001b[0m in \u001b[0;36mpandas._libs.index.IndexEngine.get_loc\u001b[0;34m()\u001b[0m\n",
      "\u001b[0;32mpandas/_libs/hashtable_class_helper.pxi\u001b[0m in \u001b[0;36mpandas._libs.hashtable.PyObjectHashTable.get_item\u001b[0;34m()\u001b[0m\n",
      "\u001b[0;32mpandas/_libs/hashtable_class_helper.pxi\u001b[0m in \u001b[0;36mpandas._libs.hashtable.PyObjectHashTable.get_item\u001b[0;34m()\u001b[0m\n",
      "\u001b[0;31mKeyError\u001b[0m: 'breed'"
     ]
    }
   ],
   "source": [
    "breed_coded = pd.get_dummies(df['breed'], drop_first = True)\n",
    "\n",
    "df = df.drop('breed',axis = 1)"
   ]
  },
  {
   "cell_type": "code",
   "execution_count": 23,
   "metadata": {},
   "outputs": [
    {
     "data": {
      "text/html": [
       "<div>\n",
       "<style scoped>\n",
       "    .dataframe tbody tr th:only-of-type {\n",
       "        vertical-align: middle;\n",
       "    }\n",
       "\n",
       "    .dataframe tbody tr th {\n",
       "        vertical-align: top;\n",
       "    }\n",
       "\n",
       "    .dataframe thead th {\n",
       "        text-align: right;\n",
       "    }\n",
       "</style>\n",
       "<table border=\"1\" class=\"dataframe\">\n",
       "  <thead>\n",
       "    <tr style=\"text-align: right;\">\n",
       "      <th></th>\n",
       "      <th>Bat</th>\n",
       "      <th>Black/Tan Hound</th>\n",
       "      <th>Boxer</th>\n",
       "      <th>Bull Terrier Mix</th>\n",
       "      <th>Chicken</th>\n",
       "      <th>Chihuahua Shorthair</th>\n",
       "      <th>Coyote</th>\n",
       "      <th>Domestic Longhair</th>\n",
       "      <th>Domestic Medium Hair</th>\n",
       "      <th>Domestic Shorthair</th>\n",
       "      <th>Domestic Shorthair Mix</th>\n",
       "      <th>Fox</th>\n",
       "      <th>Opossum</th>\n",
       "      <th>Pit Bull</th>\n",
       "      <th>Pit Bull Mix</th>\n",
       "      <th>Raccoon</th>\n",
       "      <th>Skunk</th>\n",
       "      <th>Squirrel</th>\n",
       "      <th>Whippet</th>\n",
       "      <th>Wolf Hybrid Mix</th>\n",
       "    </tr>\n",
       "  </thead>\n",
       "  <tbody>\n",
       "    <tr>\n",
       "      <th>1805</th>\n",
       "      <td>0</td>\n",
       "      <td>0</td>\n",
       "      <td>0</td>\n",
       "      <td>0</td>\n",
       "      <td>0</td>\n",
       "      <td>0</td>\n",
       "      <td>0</td>\n",
       "      <td>0</td>\n",
       "      <td>0</td>\n",
       "      <td>0</td>\n",
       "      <td>0</td>\n",
       "      <td>0</td>\n",
       "      <td>0</td>\n",
       "      <td>0</td>\n",
       "      <td>0</td>\n",
       "      <td>1</td>\n",
       "      <td>0</td>\n",
       "      <td>0</td>\n",
       "      <td>0</td>\n",
       "      <td>0</td>\n",
       "    </tr>\n",
       "    <tr>\n",
       "      <th>622</th>\n",
       "      <td>0</td>\n",
       "      <td>0</td>\n",
       "      <td>0</td>\n",
       "      <td>0</td>\n",
       "      <td>0</td>\n",
       "      <td>0</td>\n",
       "      <td>0</td>\n",
       "      <td>0</td>\n",
       "      <td>0</td>\n",
       "      <td>1</td>\n",
       "      <td>0</td>\n",
       "      <td>0</td>\n",
       "      <td>0</td>\n",
       "      <td>0</td>\n",
       "      <td>0</td>\n",
       "      <td>0</td>\n",
       "      <td>0</td>\n",
       "      <td>0</td>\n",
       "      <td>0</td>\n",
       "      <td>0</td>\n",
       "    </tr>\n",
       "  </tbody>\n",
       "</table>\n",
       "</div>"
      ],
      "text/plain": [
       "      Bat  Black/Tan Hound  Boxer  Bull Terrier Mix  Chicken  \\\n",
       "1805    0                0      0                 0        0   \n",
       "622     0                0      0                 0        0   \n",
       "\n",
       "      Chihuahua Shorthair  Coyote  Domestic Longhair  Domestic Medium Hair  \\\n",
       "1805                    0       0                  0                     0   \n",
       "622                     0       0                  0                     0   \n",
       "\n",
       "      Domestic Shorthair  Domestic Shorthair Mix  Fox  Opossum  Pit Bull  \\\n",
       "1805                   0                       0    0        0         0   \n",
       "622                    1                       0    0        0         0   \n",
       "\n",
       "      Pit Bull Mix  Raccoon  Skunk  Squirrel  Whippet  Wolf Hybrid Mix  \n",
       "1805             0        1      0         0        0                0  \n",
       "622              0        0      0         0        0                0  "
      ]
     },
     "execution_count": 23,
     "metadata": {},
     "output_type": "execute_result"
    }
   ],
   "source": [
    "breed_coded.sample(2)"
   ]
  },
  {
   "cell_type": "code",
   "execution_count": 24,
   "metadata": {},
   "outputs": [],
   "source": [
    "df = df.join(breed_coded)"
   ]
  },
  {
   "cell_type": "code",
   "execution_count": 25,
   "metadata": {},
   "outputs": [],
   "source": [
    "color_coded = pd.get_dummies(df['color'], drop_first = True)\n",
    "\n",
    "df = df.drop('color',axis = 1)\n",
    "\n",
    "df = df.join(color_coded)"
   ]
  },
  {
   "cell_type": "code",
   "execution_count": 26,
   "metadata": {},
   "outputs": [],
   "source": [
    "#There is only one record for outcome_subtype == to Medical so I am dropping it \n",
    "df = df[df['outcome_subtype'] != 'Medical']\n"
   ]
  },
  {
   "cell_type": "code",
   "execution_count": 27,
   "metadata": {},
   "outputs": [
    {
     "data": {
      "text/plain": [
       "{'At Vet': 0,\n",
       " 'Behavior': 1,\n",
       " 'Court/Investigation': 2,\n",
       " 'Rabies Risk': 3,\n",
       " 'Suffering': 4,\n",
       " 'Underage': 5}"
      ]
     },
     "execution_count": 27,
     "metadata": {},
     "output_type": "execute_result"
    }
   ],
   "source": [
    "outcomes_mapping = {label: idx for idx, label in enumerate(np.unique(df['outcome_subtype']))}\n",
    "outcomes_mapping"
   ]
  },
  {
   "cell_type": "code",
   "execution_count": 28,
   "metadata": {},
   "outputs": [
    {
     "data": {
      "text/html": [
       "<div>\n",
       "<style scoped>\n",
       "    .dataframe tbody tr th:only-of-type {\n",
       "        vertical-align: middle;\n",
       "    }\n",
       "\n",
       "    .dataframe tbody tr th {\n",
       "        vertical-align: top;\n",
       "    }\n",
       "\n",
       "    .dataframe thead th {\n",
       "        text-align: right;\n",
       "    }\n",
       "</style>\n",
       "<table border=\"1\" class=\"dataframe\">\n",
       "  <thead>\n",
       "    <tr style=\"text-align: right;\">\n",
       "      <th></th>\n",
       "      <th>animal_id</th>\n",
       "      <th>datetime</th>\n",
       "      <th>monthyear</th>\n",
       "      <th>date_of_birth</th>\n",
       "      <th>outcome_type</th>\n",
       "      <th>age_upon_outcome</th>\n",
       "      <th>name</th>\n",
       "      <th>outcome_subtype</th>\n",
       "      <th>Intact Male</th>\n",
       "      <th>Neutered Male</th>\n",
       "      <th>...</th>\n",
       "      <th>Red/Brown</th>\n",
       "      <th>Red/Gray</th>\n",
       "      <th>Tan</th>\n",
       "      <th>Tan/White</th>\n",
       "      <th>Torbie</th>\n",
       "      <th>Tortie/Black</th>\n",
       "      <th>Tricolor</th>\n",
       "      <th>White/Black</th>\n",
       "      <th>White/Brown Tabby</th>\n",
       "      <th>White/Gray</th>\n",
       "    </tr>\n",
       "  </thead>\n",
       "  <tbody>\n",
       "    <tr>\n",
       "      <th>540</th>\n",
       "      <td>A821624</td>\n",
       "      <td>2020-08-19T13:05:00.000</td>\n",
       "      <td>2020-08-19T13:05:00.000</td>\n",
       "      <td>2018-08-15T00:00:00.000</td>\n",
       "      <td>Euthanasia</td>\n",
       "      <td>2 years</td>\n",
       "      <td>Fox</td>\n",
       "      <td>3</td>\n",
       "      <td>0</td>\n",
       "      <td>0</td>\n",
       "      <td>...</td>\n",
       "      <td>0</td>\n",
       "      <td>0</td>\n",
       "      <td>0</td>\n",
       "      <td>0</td>\n",
       "      <td>0</td>\n",
       "      <td>0</td>\n",
       "      <td>0</td>\n",
       "      <td>0</td>\n",
       "      <td>0</td>\n",
       "      <td>0</td>\n",
       "    </tr>\n",
       "    <tr>\n",
       "      <th>1826</th>\n",
       "      <td>A819426</td>\n",
       "      <td>2020-06-29T09:40:00.000</td>\n",
       "      <td>2020-06-29T09:40:00.000</td>\n",
       "      <td>2019-06-29T00:00:00.000</td>\n",
       "      <td>Euthanasia</td>\n",
       "      <td>1 year</td>\n",
       "      <td>NaN</td>\n",
       "      <td>0</td>\n",
       "      <td>0</td>\n",
       "      <td>0</td>\n",
       "      <td>...</td>\n",
       "      <td>0</td>\n",
       "      <td>0</td>\n",
       "      <td>0</td>\n",
       "      <td>0</td>\n",
       "      <td>0</td>\n",
       "      <td>0</td>\n",
       "      <td>0</td>\n",
       "      <td>0</td>\n",
       "      <td>0</td>\n",
       "      <td>0</td>\n",
       "    </tr>\n",
       "  </tbody>\n",
       "</table>\n",
       "<p>2 rows × 74 columns</p>\n",
       "</div>"
      ],
      "text/plain": [
       "     animal_id                 datetime                monthyear  \\\n",
       "540    A821624  2020-08-19T13:05:00.000  2020-08-19T13:05:00.000   \n",
       "1826   A819426  2020-06-29T09:40:00.000  2020-06-29T09:40:00.000   \n",
       "\n",
       "                date_of_birth outcome_type age_upon_outcome name  \\\n",
       "540   2018-08-15T00:00:00.000   Euthanasia          2 years  Fox   \n",
       "1826  2019-06-29T00:00:00.000   Euthanasia           1 year  NaN   \n",
       "\n",
       "      outcome_subtype  Intact Male  Neutered Male  ...  Red/Brown  Red/Gray  \\\n",
       "540                 3            0              0  ...          0         0   \n",
       "1826                0            0              0  ...          0         0   \n",
       "\n",
       "      Tan  Tan/White  Torbie  Tortie/Black  Tricolor  White/Black  \\\n",
       "540     0          0       0             0         0            0   \n",
       "1826    0          0       0             0         0            0   \n",
       "\n",
       "      White/Brown Tabby  White/Gray  \n",
       "540                   0           0  \n",
       "1826                  0           0  \n",
       "\n",
       "[2 rows x 74 columns]"
      ]
     },
     "execution_count": 28,
     "metadata": {},
     "output_type": "execute_result"
    }
   ],
   "source": [
    "df['outcome_subtype'] = df['outcome_subtype'].map(outcomes_mapping)\n",
    "df.sample(2)"
   ]
  },
  {
   "cell_type": "code",
   "execution_count": 29,
   "metadata": {},
   "outputs": [],
   "source": [
    "def conversion(time):\n",
    "    yearList = time.split()\n",
    "    if 'year' in time:\n",
    "        return(int(yearList[0])*365)\n",
    "    elif 'month' in time:\n",
    "        return(int(yearList[0])*30)\n",
    "    elif 'week' in time:\n",
    "        return(int(yearList[0])*7)\n",
    "    elif 'day' in time:\n",
    "        return(yearList[0])\n",
    "    else:\n",
    "        return(np.nan)\n",
    "\n",
    "df['age_upon_outcome_converted'] = df['age_upon_outcome'].apply(conversion)"
   ]
  },
  {
   "cell_type": "code",
   "execution_count": 30,
   "metadata": {},
   "outputs": [
    {
     "data": {
      "text/html": [
       "<div>\n",
       "<style scoped>\n",
       "    .dataframe tbody tr th:only-of-type {\n",
       "        vertical-align: middle;\n",
       "    }\n",
       "\n",
       "    .dataframe tbody tr th {\n",
       "        vertical-align: top;\n",
       "    }\n",
       "\n",
       "    .dataframe thead th {\n",
       "        text-align: right;\n",
       "    }\n",
       "</style>\n",
       "<table border=\"1\" class=\"dataframe\">\n",
       "  <thead>\n",
       "    <tr style=\"text-align: right;\">\n",
       "      <th></th>\n",
       "      <th>animal_id</th>\n",
       "      <th>datetime</th>\n",
       "      <th>monthyear</th>\n",
       "      <th>date_of_birth</th>\n",
       "      <th>outcome_type</th>\n",
       "      <th>age_upon_outcome</th>\n",
       "      <th>name</th>\n",
       "      <th>outcome_subtype</th>\n",
       "      <th>Intact Male</th>\n",
       "      <th>Neutered Male</th>\n",
       "      <th>...</th>\n",
       "      <th>Red/Gray</th>\n",
       "      <th>Tan</th>\n",
       "      <th>Tan/White</th>\n",
       "      <th>Torbie</th>\n",
       "      <th>Tortie/Black</th>\n",
       "      <th>Tricolor</th>\n",
       "      <th>White/Black</th>\n",
       "      <th>White/Brown Tabby</th>\n",
       "      <th>White/Gray</th>\n",
       "      <th>age_upon_outcome_converted</th>\n",
       "    </tr>\n",
       "  </thead>\n",
       "  <tbody>\n",
       "    <tr>\n",
       "      <th>789</th>\n",
       "      <td>A821352</td>\n",
       "      <td>2020-08-10T10:51:00.000</td>\n",
       "      <td>2020-08-10T10:51:00.000</td>\n",
       "      <td>2019-08-10T00:00:00.000</td>\n",
       "      <td>Euthanasia</td>\n",
       "      <td>1 year</td>\n",
       "      <td>NaN</td>\n",
       "      <td>4</td>\n",
       "      <td>0</td>\n",
       "      <td>0</td>\n",
       "      <td>...</td>\n",
       "      <td>0</td>\n",
       "      <td>0</td>\n",
       "      <td>0</td>\n",
       "      <td>0</td>\n",
       "      <td>0</td>\n",
       "      <td>0</td>\n",
       "      <td>0</td>\n",
       "      <td>0</td>\n",
       "      <td>0</td>\n",
       "      <td>365</td>\n",
       "    </tr>\n",
       "    <tr>\n",
       "      <th>1254</th>\n",
       "      <td>A820533</td>\n",
       "      <td>2020-07-22T17:30:00.000</td>\n",
       "      <td>2020-07-22T17:30:00.000</td>\n",
       "      <td>2012-07-22T00:00:00.000</td>\n",
       "      <td>Euthanasia</td>\n",
       "      <td>8 years</td>\n",
       "      <td>NaN</td>\n",
       "      <td>3</td>\n",
       "      <td>1</td>\n",
       "      <td>0</td>\n",
       "      <td>...</td>\n",
       "      <td>0</td>\n",
       "      <td>0</td>\n",
       "      <td>0</td>\n",
       "      <td>0</td>\n",
       "      <td>0</td>\n",
       "      <td>0</td>\n",
       "      <td>1</td>\n",
       "      <td>0</td>\n",
       "      <td>0</td>\n",
       "      <td>2920</td>\n",
       "    </tr>\n",
       "  </tbody>\n",
       "</table>\n",
       "<p>2 rows × 75 columns</p>\n",
       "</div>"
      ],
      "text/plain": [
       "     animal_id                 datetime                monthyear  \\\n",
       "789    A821352  2020-08-10T10:51:00.000  2020-08-10T10:51:00.000   \n",
       "1254   A820533  2020-07-22T17:30:00.000  2020-07-22T17:30:00.000   \n",
       "\n",
       "                date_of_birth outcome_type age_upon_outcome name  \\\n",
       "789   2019-08-10T00:00:00.000   Euthanasia           1 year  NaN   \n",
       "1254  2012-07-22T00:00:00.000   Euthanasia          8 years  NaN   \n",
       "\n",
       "      outcome_subtype  Intact Male  Neutered Male  ...  Red/Gray  Tan  \\\n",
       "789                 4            0              0  ...         0    0   \n",
       "1254                3            1              0  ...         0    0   \n",
       "\n",
       "      Tan/White  Torbie  Tortie/Black  Tricolor  White/Black  \\\n",
       "789           0       0             0         0            0   \n",
       "1254          0       0             0         0            1   \n",
       "\n",
       "      White/Brown Tabby  White/Gray  age_upon_outcome_converted  \n",
       "789                   0           0                         365  \n",
       "1254                  0           0                        2920  \n",
       "\n",
       "[2 rows x 75 columns]"
      ]
     },
     "execution_count": 30,
     "metadata": {},
     "output_type": "execute_result"
    }
   ],
   "source": [
    "df.sample(2)\n"
   ]
  },
  {
   "cell_type": "code",
   "execution_count": 31,
   "metadata": {},
   "outputs": [],
   "source": [
    "#I decided to drop the rows without values for the ages as well as there were only 10. This didn't get dropped \n",
    "#before because it was coded as 'NULL' instead of NaN\n",
    "\n",
    "df = df.dropna(subset=['age_upon_outcome_converted'])\n",
    "\n",
    "#I also decided to not use the name column becuase there are so many values and missing cells\n",
    "\n",
    "df = df.drop('name', axis = 1)\n",
    "df = df.drop('outcome_type', axis =1)\n",
    "df = df.drop('age_upon_outcome', axis =1)\n",
    "df = df.drop('animal_id', axis =1)\n",
    "df = df.drop(['datetime','monthyear','date_of_birth'], axis =1)             "
   ]
  },
  {
   "cell_type": "code",
   "execution_count": 32,
   "metadata": {},
   "outputs": [],
   "source": [
    "df = df[[col for col in df if col not in ['outcome_subtype']] \n",
    "       + ['outcome_subtype']]"
   ]
  },
  {
   "cell_type": "code",
   "execution_count": 41,
   "metadata": {},
   "outputs": [
    {
     "name": "stdout",
     "output_type": "stream",
     "text": [
      "1\n",
      "3\n",
      "87\n",
      "50\n",
      "7\n"
     ]
    }
   ],
   "source": [
    "print(len(df[df.outcome_subtype == 1]))\n",
    "print(len(df[df.outcome_subtype == 2]))\n",
    "print(len(df[df.outcome_subtype == 3]))\n",
    "print(len(df[df.outcome_subtype == 4]))\n",
    "print(len(df[df.outcome_subtype == 5]))"
   ]
  },
  {
   "cell_type": "code",
   "execution_count": 42,
   "metadata": {},
   "outputs": [],
   "source": [
    "#We need to drop the row that is y ==1 because it can't be represented in both the train and test\n",
    "\n",
    "df = df[df.outcome_subtype != 1]"
   ]
  },
  {
   "cell_type": "code",
   "execution_count": 43,
   "metadata": {},
   "outputs": [],
   "source": [
    "#Scaling\n",
    "from sklearn.preprocessing import StandardScaler\n",
    "\n",
    "stdsc = StandardScaler()\n",
    "X, y = df.iloc[:, 0:-1].values, df.iloc[:, -1].values.astype(float)\n",
    "\n",
    "X = stdsc.fit_transform(X).astype(float)\n"
   ]
  },
  {
   "cell_type": "code",
   "execution_count": 44,
   "metadata": {},
   "outputs": [],
   "source": [
    "from sklearn.model_selection import train_test_split\n",
    "\n",
    "X_train, X_test, y_train, y_test =\\\n",
    "    train_test_split(X, y, \n",
    "                     test_size=0.3, \n",
    "                     random_state=0, \n",
    "                     stratify=y)"
   ]
  },
  {
   "cell_type": "code",
   "execution_count": 45,
   "metadata": {},
   "outputs": [
    {
     "name": "stdout",
     "output_type": "stream",
     "text": [
      " 1) age_upon_outcome_converted     0.205780\n",
      " 2) Bat                            0.087270\n",
      " 3) Other                          0.078912\n",
      " 4) Cat                            0.052933\n",
      " 5) Domestic Shorthair             0.046850\n",
      " 6) Unknown                        0.045000\n",
      " 7) Gray/Gray                      0.039766\n"
     ]
    }
   ],
   "source": [
    "#Feature Selection\n",
    "from sklearn.ensemble import RandomForestClassifier\n",
    "\n",
    "feat_labels = df.columns[0:-1]\n",
    "\n",
    "forest = RandomForestClassifier(n_estimators=500,\n",
    "                                random_state=1)\n",
    "\n",
    "forest.fit(X_train, y_train)\n",
    "importances = forest.feature_importances_\n",
    "\n",
    "indices = np.argsort(importances)[::-1]\n",
    "\n",
    "X_train_subset = pd.DataFrame()\n",
    "X_test_subset = pd.DataFrame()\n",
    "\n",
    "\n",
    "for f in range(7):\n",
    "    print(\"%2d) %-*s %f\" % (f + 1, 30, \n",
    "                            feat_labels[indices[f]], \n",
    "                            importances[indices[f]]))\n",
    "    X_train_subset[str(f)] = X_train[:,indices[f]]\n",
    "    X_test_subset[str(f)] = X_test[:,indices[f]]\n",
    "    \n",
    "X_test_subset_7 = np.array(X_test_subset)\n",
    "X_train_subset_7 = np.array(X_train_subset)\n"
   ]
  },
  {
   "cell_type": "code",
   "execution_count": 46,
   "metadata": {},
   "outputs": [
    {
     "data": {
      "text/plain": [
       "0.75"
      ]
     },
     "execution_count": 46,
     "metadata": {},
     "output_type": "execute_result"
    }
   ],
   "source": [
    "#Knearest Neighbors\n",
    "from sklearn.neighbors import KNeighborsClassifier\n",
    "#First for all the data\n",
    "knn = KNeighborsClassifier(n_neighbors=5)\n",
    "\n",
    "knn.fit(X_train, y_train)\n",
    "\n",
    "knn.score(X_test, y_test)"
   ]
  },
  {
   "cell_type": "code",
   "execution_count": 47,
   "metadata": {},
   "outputs": [
    {
     "data": {
      "text/plain": [
       "0.6666666666666666"
      ]
     },
     "execution_count": 47,
     "metadata": {},
     "output_type": "execute_result"
    }
   ],
   "source": [
    "#Now for just the seven selected features\n",
    "knn = KNeighborsClassifier(n_neighbors=5)\n",
    "\n",
    "knn.fit(X_train_subset_7, y_train)\n",
    "\n",
    "knn.score(X_test_subset_7, y_test)\n",
    "\n"
   ]
  },
  {
   "cell_type": "code",
   "execution_count": 48,
   "metadata": {},
   "outputs": [
    {
     "name": "stdout",
     "output_type": "stream",
     "text": [
      " 1) age_upon_outcome_converted     0.205780\n",
      " 2) Bat                            0.087270\n",
      " 3) Other                          0.078912\n",
      " 4) Cat                            0.052933\n",
      " 5) Domestic Shorthair             0.046850\n",
      " 6) Unknown                        0.045000\n",
      " 7) Gray/Gray                      0.039766\n",
      " 8) Opossum                        0.039493\n"
     ]
    }
   ],
   "source": [
    "#Now for 8 features\n",
    "\n",
    "forest = RandomForestClassifier(n_estimators=500,\n",
    "                                random_state=1)\n",
    "\n",
    "forest.fit(X_train, y_train)\n",
    "importances = forest.feature_importances_\n",
    "\n",
    "indices = np.argsort(importances)[::-1]\n",
    "\n",
    "X_train_subset = pd.DataFrame()\n",
    "X_test_subset = pd.DataFrame()\n",
    "\n",
    "\n",
    "for f in range(8):\n",
    "    print(\"%2d) %-*s %f\" % (f + 1, 30, \n",
    "                            feat_labels[indices[f]], \n",
    "                            importances[indices[f]]))\n",
    "    X_train_subset[str(f)] = X_train[:,indices[f]]\n",
    "    X_test_subset[str(f)] = X_test[:,indices[f]]\n",
    "    \n",
    "X_test_subset = np.array(X_test_subset)\n",
    "X_train_subset = np.array(X_train_subset)"
   ]
  },
  {
   "cell_type": "code",
   "execution_count": 49,
   "metadata": {},
   "outputs": [
    {
     "data": {
      "text/plain": [
       "0.6666666666666666"
      ]
     },
     "execution_count": 49,
     "metadata": {},
     "output_type": "execute_result"
    }
   ],
   "source": [
    "knn = KNeighborsClassifier(n_neighbors=5)\n",
    "\n",
    "knn.fit(X_train_subset, y_train)\n",
    "\n",
    "knn.score(X_test_subset, y_test)\n"
   ]
  },
  {
   "cell_type": "code",
   "execution_count": 50,
   "metadata": {},
   "outputs": [
    {
     "name": "stdout",
     "output_type": "stream",
     "text": [
      " 1) age_upon_outcome_converted     0.205780\n",
      " 2) Bat                            0.087270\n",
      " 3) Other                          0.078912\n",
      " 4) Cat                            0.052933\n",
      " 5) Domestic Shorthair             0.046850\n",
      " 6) Unknown                        0.045000\n"
     ]
    }
   ],
   "source": [
    "#Now for 6 features\n",
    "forest = RandomForestClassifier(n_estimators=500,\n",
    "                                random_state=1)\n",
    "\n",
    "forest.fit(X_train, y_train)\n",
    "importances = forest.feature_importances_\n",
    "\n",
    "indices = np.argsort(importances)[::-1]\n",
    "\n",
    "X_train_subset = pd.DataFrame()\n",
    "X_test_subset = pd.DataFrame()\n",
    "\n",
    "\n",
    "for f in range(6):\n",
    "    print(\"%2d) %-*s %f\" % (f + 1, 30, \n",
    "                            feat_labels[indices[f]], \n",
    "                            importances[indices[f]]))\n",
    "    X_train_subset[str(f)] = X_train[:,indices[f]]\n",
    "    X_test_subset[str(f)] = X_test[:,indices[f]]\n",
    "    \n",
    "X_test_subset = np.array(X_test_subset)\n",
    "X_train_subset = np.array(X_train_subset)"
   ]
  },
  {
   "cell_type": "code",
   "execution_count": 51,
   "metadata": {},
   "outputs": [
    {
     "data": {
      "text/plain": [
       "0.6458333333333334"
      ]
     },
     "execution_count": 51,
     "metadata": {},
     "output_type": "execute_result"
    }
   ],
   "source": [
    "knn = KNeighborsClassifier(n_neighbors=5)\n",
    "\n",
    "knn.fit(X_train_subset, y_train)\n",
    "\n",
    "knn.score(X_test_subset, y_test)"
   ]
  },
  {
   "cell_type": "markdown",
   "metadata": {},
   "source": [
    "Incresing the number of features to 8 didn't improve the score, and decreasing to 6 did lower the score as well. Therefore, 7 seems to be the correct number of features. <- This was for the original data set I used, but it has been updated since then and i don't think is correct anymore. "
   ]
  },
  {
   "cell_type": "code",
   "execution_count": 27,
   "metadata": {},
   "outputs": [
    {
     "data": {
      "text/plain": [
       "0.7090909090909091"
      ]
     },
     "execution_count": 27,
     "metadata": {},
     "output_type": "execute_result"
    }
   ],
   "source": [
    "#Logistic Regression\n",
    "from sklearn.linear_model import LogisticRegression\n",
    "\n",
    "lr = LogisticRegression(C=100.0, random_state=1, solver='lbfgs', multi_class='ovr', max_iter = 1000)\n",
    "lr.fit(X_train_subset_7, y_train)\n",
    "lr.score(X_test_subset_7, y_test)\n"
   ]
  },
  {
   "cell_type": "markdown",
   "metadata": {},
   "source": [
    "This model didn't seem to perform very well. I don't think that the data is linearily seperable, so I initially recieved an error and had to increaes the number of iterations to get it to work. "
   ]
  },
  {
   "cell_type": "code",
   "execution_count": 28,
   "metadata": {},
   "outputs": [
    {
     "data": {
      "text/plain": [
       "0.7454545454545455"
      ]
     },
     "execution_count": 28,
     "metadata": {},
     "output_type": "execute_result"
    }
   ],
   "source": [
    "#Support Vector \n",
    "from sklearn.svm import SVC\n",
    "\n",
    "svm = SVC(kernel='rbf', random_state=1, gamma=0.10, C=10.0)\n",
    "svm.fit(X_train_subset_7, y_train)\n",
    "svm.score(X_test_subset_7, y_test)"
   ]
  },
  {
   "cell_type": "markdown",
   "metadata": {},
   "source": [
    "This model performed slightly better, but it still isn't very accurate. Overall, it was better than the other two models. "
   ]
  },
  {
   "cell_type": "markdown",
   "metadata": {},
   "source": [
    "Experiment Summary"
   ]
  },
  {
   "cell_type": "markdown",
   "metadata": {},
   "source": [
    "Data was collected using the API and instructions found at this webpage: https://dev.socrata.com/foundry/data.austintexas.gov/gjtj-jt2d\n",
    "\n",
    "It was very easy to use. \n",
    "\n",
    "Preprocessing the data envolved a lot of one hot encoding to transform the features. There was also some missing data that had to be handled. \n",
    "\n",
    "I compared the K nearest neighbors, Logistic Regression, and kernal svm methods. I don't think any of them worked that well because some of the sub-types only had 3 or so examples in the data. I think if I had narrowed down my dependent variable to just the rabies-risk and aggression categories, it would have worked a lot better. In summary, I don't think I was able to create an effective model, but I think it's a very interesting dataset and there is potential for a good model. I learned more about data requirements for creating models. "
   ]
  }
 ],
 "metadata": {
  "kernelspec": {
   "display_name": "Python 3",
   "language": "python",
   "name": "python3"
  },
  "language_info": {
   "codemirror_mode": {
    "name": "ipython",
    "version": 3
   },
   "file_extension": ".py",
   "mimetype": "text/x-python",
   "name": "python",
   "nbconvert_exporter": "python",
   "pygments_lexer": "ipython3",
   "version": "3.8.3"
  }
 },
 "nbformat": 4,
 "nbformat_minor": 4
}
